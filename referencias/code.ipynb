{
 "cells": [
  {
   "cell_type": "markdown",
   "metadata": {},
   "source": [
    "### Referencias\n",
    "\n",
    "Usando el formato [BibTeX](http://www.bibtex.org/Format/) (en [Wikipedia](https://es.wikipedia.org/wiki/BibTeX)), desde la opción **Citar** en [Google Académico](https://scholar.google.com/).\n",
    "\n",
    "![](image.png)\n",
    "\n",
    "> Agregar en **[data.bib](data.bib)**."
   ]
  },
  {
   "cell_type": "code",
   "execution_count": null,
   "metadata": {},
   "outputs": [],
   "source": [
    "# Requerimientos\n",
    "!pip install pybtex"
   ]
  },
  {
   "cell_type": "code",
   "execution_count": 10,
   "metadata": {},
   "outputs": [],
   "source": [
    "from pybtex.database import parse_file\n",
    "\n",
    "bib_data = parse_file(\"data.bib\")\n",
    "\n",
    "md = open(\"README.md\", \"w\", encoding=\"utf-8\")\n",
    "md.write(\"[Índice](../README.md#índice)\\n\\n# Referencias\\n\")\n",
    "\n",
    "keys = list(bib_data.entries.keys())\n",
    "keys.sort()\n",
    "for key in keys:\n",
    "    md.write(f\"## {key}\\n\")\n",
    "    entry = bib_data.entries[key]\n",
    "    authors = \"\"\n",
    "    for index, author in enumerate(entry.persons[\"author\"]):\n",
    "        last_name = author.last_names[0]\n",
    "        first_name = \"\"\n",
    "        if len(author.first_names) > 0:\n",
    "            if index > 0:\n",
    "                if index == len(entry.persons[\"author\"]) - 1:\n",
    "                    authors += \", & \"\n",
    "                else:\n",
    "                    authors += \", \"\n",
    "            first_name = author.first_names[0][0]\n",
    "            authors += f\"{last_name}, {first_name}.\"\n",
    "        else:\n",
    "            authors += f\"{last_name}.\"\n",
    "    year = entry.fields[\"year\"]\n",
    "    title = entry.fields[\"title\"] + \". \"\n",
    "    journal = \"\"\n",
    "    if \"journal\" in entry.fields:\n",
    "        journal = entry.fields[\"journal\"] + \". \"\n",
    "    url = \"\"\n",
    "    if \"url\" in entry.fields:\n",
    "        url = entry.fields[\"url\"]\n",
    "    out = f\"{authors}({year}). {title}{journal}{url}\\n\\n\"\n",
    "    md.write(out)\n",
    "md.close()"
   ]
  }
 ],
 "metadata": {
  "kernelspec": {
   "display_name": "Python 3",
   "language": "python",
   "name": "python3"
  },
  "language_info": {
   "codemirror_mode": {
    "name": "ipython",
    "version": 3
   },
   "file_extension": ".py",
   "mimetype": "text/x-python",
   "name": "python",
   "nbconvert_exporter": "python",
   "pygments_lexer": "ipython3",
   "version": "3.11.5"
  },
  "orig_nbformat": 4
 },
 "nbformat": 4,
 "nbformat_minor": 2
}
