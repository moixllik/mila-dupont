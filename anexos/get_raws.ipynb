{
 "cells": [
  {
   "cell_type": "markdown",
   "metadata": {},
   "source": [
    "# Obtener información requerida para el Modelo DuPont"
   ]
  },
  {
   "cell_type": "code",
   "execution_count": null,
   "metadata": {},
   "outputs": [],
   "source": [
    "# Requerimientos\n",
    "!pip install selenium pandas sqlalchemy"
   ]
  },
  {
   "cell_type": "code",
   "execution_count": 1,
   "metadata": {},
   "outputs": [],
   "source": [
    "from selenium import webdriver\n",
    "from selenium.webdriver.common.by import By\n",
    "import pandas as pd\n",
    "import sqlalchemy\n",
    "\n",
    "db = sqlalchemy.create_engine(\"sqlite:///data.sqlite\")"
   ]
  },
  {
   "cell_type": "code",
   "execution_count": 5,
   "metadata": {},
   "outputs": [],
   "source": [
    "def get_raws(country):\n",
    "    df = pd.read_sql(f\"select * from {country}_companies\", db)\n",
    "    raws = []\n",
    "    for row in df.values:\n",
    "        source = row[5] \n",
    "        \n",
    "        raws.append({\n",
    "            \"source\": source,\n",
    "            \"revenue\": f\"{source}financials-income-statement/total-revenue/\",\n",
    "            \"income\": f\"{source}financials-income-statement/net-income/\",\n",
    "            \"assets\": f\"{source}financials-balance-sheet/total-assets/\",\n",
    "            \"equity\": f\"{source}financials-balance-sheet/shrhldrs-equity/\",\n",
    "            \"status\": 0\n",
    "        })\n",
    "    pd.DataFrame(raws).to_sql(f\"{country}_raws\", db, if_exists=\"replace\")\n",
    "\n",
    "for country in [\"chile\", \"colombia\", \"mexico\", \"peru\"]:\n",
    "    get_raws(country)"
   ]
  },
  {
   "cell_type": "code",
   "execution_count": 2,
   "metadata": {},
   "outputs": [],
   "source": [
    "from sqlalchemy.sql import text\n",
    "\n",
    "def get_by(url):\n",
    "    try:\n",
    "        driver = webdriver.Edge()\n",
    "        driver.get(url)\n",
    "        div = driver.find_element(By.CLASS_NAME, \"table-CbBHHTvu\")\n",
    "        return div.text\n",
    "    except:\n",
    "        return url\n",
    "\n",
    "def get_info(country):\n",
    "    df = pd.read_sql(f\"select * from {country}_raws\", db)\n",
    "\n",
    "    for row in df.values:\n",
    "        if row[6] == 0:\n",
    "            smt = text(f\"\"\"\n",
    "                UPDATE {country}_raws SET\n",
    "                    revenue=:revenue, income=:income, assets=:assets, equity=:equity, status=1\n",
    "                WHERE source=:source\n",
    "            \"\"\")\n",
    "            params = {\n",
    "                \"source\": row[1],\n",
    "                \"revenue\": get_by(row[2]),\n",
    "                \"income\": get_by(row[3]),\n",
    "                \"assets\": get_by(row[4]),\n",
    "                \"equity\": get_by(row[5])\n",
    "            }\n",
    "            with db.begin() as conn:\n",
    "                conn.execute(smt, params)\n",
    "                conn.commit()\n",
    "\n",
    "for country in [\"chile\", \"colombia\", \"mexico\", \"peru\"]:\n",
    "    get_info(country)"
   ]
  },
  {
   "cell_type": "code",
   "execution_count": null,
   "metadata": {},
   "outputs": [],
   "source": [
    "df = pd.read_sql(\"select * from peru_raws\", db)\n",
    "df.tail()"
   ]
  }
 ],
 "metadata": {
  "kernelspec": {
   "display_name": "Python 3",
   "language": "python",
   "name": "python3"
  },
  "language_info": {
   "codemirror_mode": {
    "name": "ipython",
    "version": 3
   },
   "file_extension": ".py",
   "mimetype": "text/x-python",
   "name": "python",
   "nbconvert_exporter": "python",
   "pygments_lexer": "ipython3",
   "version": "3.11.5"
  },
  "orig_nbformat": 4
 },
 "nbformat": 4,
 "nbformat_minor": 2
}
