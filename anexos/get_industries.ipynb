{
 "cells": [
  {
   "cell_type": "markdown",
   "metadata": {},
   "source": [
    "# Obtener industrias por sector de cada país"
   ]
  },
  {
   "cell_type": "code",
   "execution_count": null,
   "metadata": {},
   "outputs": [],
   "source": [
    "# Requerimientos\n",
    "!pip install selenium pandas sqlalchemy"
   ]
  },
  {
   "cell_type": "code",
   "execution_count": 3,
   "metadata": {},
   "outputs": [],
   "source": [
    "from selenium import webdriver\n",
    "from selenium.webdriver.common.by import By\n",
    "import pandas as pd\n",
    "import sqlalchemy\n",
    "\n",
    "db = sqlalchemy.create_engine(\"sqlite:///data.sqlite\")"
   ]
  },
  {
   "cell_type": "code",
   "execution_count": 10,
   "metadata": {},
   "outputs": [],
   "source": [
    "def get_industries(country):\n",
    "    df = pd.read_sql(f\"select * from {country}_sectors\", db)\n",
    "\n",
    "    industries = []\n",
    "    for row in df.values:\n",
    "        sector = row[1]\n",
    "        url = row[2] + \"industries/\"\n",
    "\n",
    "        driver = webdriver.Edge()\n",
    "        driver.get(url)\n",
    "\n",
    "        links = driver.find_elements(By.XPATH, \"//td/a\")\n",
    "        for a in links:\n",
    "            industries.append({\n",
    "                \"sector\": sector,\n",
    "                \"name\": a.text,\n",
    "                \"href\": a.get_property(\"href\")\n",
    "            })\n",
    "        \n",
    "        pd.DataFrame(industries).to_sql(f\"{country}_industries\", db, if_exists=\"replace\")\n",
    "\n",
    "for country in [\"chile\", \"colombia\", \"mexico\", \"peru\"]:\n",
    "    get_industries(country)"
   ]
  },
  {
   "cell_type": "code",
   "execution_count": 4,
   "metadata": {},
   "outputs": [
    {
     "data": {
      "text/html": [
       "<div>\n",
       "<style scoped>\n",
       "    .dataframe tbody tr th:only-of-type {\n",
       "        vertical-align: middle;\n",
       "    }\n",
       "\n",
       "    .dataframe tbody tr th {\n",
       "        vertical-align: top;\n",
       "    }\n",
       "\n",
       "    .dataframe thead th {\n",
       "        text-align: right;\n",
       "    }\n",
       "</style>\n",
       "<table border=\"1\" class=\"dataframe\">\n",
       "  <thead>\n",
       "    <tr style=\"text-align: right;\">\n",
       "      <th></th>\n",
       "      <th>index</th>\n",
       "      <th>sector</th>\n",
       "      <th>name</th>\n",
       "      <th>href</th>\n",
       "    </tr>\n",
       "  </thead>\n",
       "  <tbody>\n",
       "    <tr>\n",
       "      <th>0</th>\n",
       "      <td>0</td>\n",
       "      <td>Servicios comerciales</td>\n",
       "      <td>Servicios comerciales diversos</td>\n",
       "      <td>https://es.tradingview.com/markets/stocks-peru...</td>\n",
       "    </tr>\n",
       "    <tr>\n",
       "      <th>1</th>\n",
       "      <td>1</td>\n",
       "      <td>Comunicaciones</td>\n",
       "      <td>Principales empresas de telecomunicaciones</td>\n",
       "      <td>https://es.tradingview.com/markets/stocks-peru...</td>\n",
       "    </tr>\n",
       "    <tr>\n",
       "      <th>2</th>\n",
       "      <td>2</td>\n",
       "      <td>Comunicaciones</td>\n",
       "      <td>Telecomunicaciones especializadas</td>\n",
       "      <td>https://es.tradingview.com/markets/stocks-peru...</td>\n",
       "    </tr>\n",
       "    <tr>\n",
       "      <th>3</th>\n",
       "      <td>3</td>\n",
       "      <td>Comunicaciones</td>\n",
       "      <td>Telecomunicaciones inalámbricas</td>\n",
       "      <td>https://es.tradingview.com/markets/stocks-peru...</td>\n",
       "    </tr>\n",
       "    <tr>\n",
       "      <th>4</th>\n",
       "      <td>4</td>\n",
       "      <td>Bienes de consumo duraderos</td>\n",
       "      <td>Vehículos de motor</td>\n",
       "      <td>https://es.tradingview.com/markets/stocks-peru...</td>\n",
       "    </tr>\n",
       "  </tbody>\n",
       "</table>\n",
       "</div>"
      ],
      "text/plain": [
       "   index                       sector  \\\n",
       "0      0        Servicios comerciales   \n",
       "1      1               Comunicaciones   \n",
       "2      2               Comunicaciones   \n",
       "3      3               Comunicaciones   \n",
       "4      4  Bienes de consumo duraderos   \n",
       "\n",
       "                                         name  \\\n",
       "0              Servicios comerciales diversos   \n",
       "1  Principales empresas de telecomunicaciones   \n",
       "2           Telecomunicaciones especializadas   \n",
       "3             Telecomunicaciones inalámbricas   \n",
       "4                          Vehículos de motor   \n",
       "\n",
       "                                                href  \n",
       "0  https://es.tradingview.com/markets/stocks-peru...  \n",
       "1  https://es.tradingview.com/markets/stocks-peru...  \n",
       "2  https://es.tradingview.com/markets/stocks-peru...  \n",
       "3  https://es.tradingview.com/markets/stocks-peru...  \n",
       "4  https://es.tradingview.com/markets/stocks-peru...  "
      ]
     },
     "execution_count": 4,
     "metadata": {},
     "output_type": "execute_result"
    }
   ],
   "source": [
    "df = pd.read_sql(\"select * from peru_industries\", db)\n",
    "df.head()"
   ]
  }
 ],
 "metadata": {
  "kernelspec": {
   "display_name": "Python 3",
   "language": "python",
   "name": "python3"
  },
  "language_info": {
   "codemirror_mode": {
    "name": "ipython",
    "version": 3
   },
   "file_extension": ".py",
   "mimetype": "text/x-python",
   "name": "python",
   "nbconvert_exporter": "python",
   "pygments_lexer": "ipython3",
   "version": "3.11.5"
  },
  "orig_nbformat": 4
 },
 "nbformat": 4,
 "nbformat_minor": 2
}
