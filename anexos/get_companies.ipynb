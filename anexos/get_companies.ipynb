{
 "cells": [
  {
   "cell_type": "markdown",
   "metadata": {},
   "source": [
    "# Obtener empresas por industria de cada país"
   ]
  },
  {
   "cell_type": "code",
   "execution_count": null,
   "metadata": {},
   "outputs": [],
   "source": [
    "# Requerimientos\n",
    "!pip install selenium pandas sqlalchemy"
   ]
  },
  {
   "cell_type": "code",
   "execution_count": 1,
   "metadata": {},
   "outputs": [],
   "source": [
    "from selenium import webdriver\n",
    "from selenium.webdriver.common.by import By\n",
    "import pandas as pd\n",
    "import sqlalchemy\n",
    "\n",
    "db = sqlalchemy.create_engine(\"sqlite:///data.sqlite\")"
   ]
  },
  {
   "cell_type": "code",
   "execution_count": 28,
   "metadata": {},
   "outputs": [],
   "source": [
    "def get_companies(country):\n",
    "    df = pd.read_sql(f\"select * from {country}_industries\", db)\n",
    "    countries = []\n",
    "    for row in df.values:\n",
    "        sector = row[1]\n",
    "        industry = row[2]\n",
    "        url = row[3]\n",
    "\n",
    "        driver = webdriver.Edge()\n",
    "        driver.get(url)\n",
    "        links = driver.find_elements(By.XPATH, \"//td/span/a\")\n",
    "        names = driver.find_elements(By.XPATH, \"//td/span/sup\")\n",
    "\n",
    "        for index, a in enumerate(links):\n",
    "            countries.append({\n",
    "                \"sector\": sector,\n",
    "                \"industry\": industry,\n",
    "                \"ticker\": a.text,\n",
    "                \"name\": names[index].text,\n",
    "                \"href\": a.get_property(\"href\")\n",
    "            })\n",
    "    pd.DataFrame(countries).to_sql(f\"{country}_companies\", db, if_exists=\"replace\")\n",
    "\n",
    "for country in [\"chile\", \"colombia\", \"mexico\", \"peru\"]:\n",
    "    get_companies(country)"
   ]
  },
  {
   "cell_type": "code",
   "execution_count": 2,
   "metadata": {},
   "outputs": [
    {
     "data": {
      "text/html": [
       "<div>\n",
       "<style scoped>\n",
       "    .dataframe tbody tr th:only-of-type {\n",
       "        vertical-align: middle;\n",
       "    }\n",
       "\n",
       "    .dataframe tbody tr th {\n",
       "        vertical-align: top;\n",
       "    }\n",
       "\n",
       "    .dataframe thead th {\n",
       "        text-align: right;\n",
       "    }\n",
       "</style>\n",
       "<table border=\"1\" class=\"dataframe\">\n",
       "  <thead>\n",
       "    <tr style=\"text-align: right;\">\n",
       "      <th></th>\n",
       "      <th>index</th>\n",
       "      <th>sector</th>\n",
       "      <th>industry</th>\n",
       "      <th>ticker</th>\n",
       "      <th>name</th>\n",
       "      <th>href</th>\n",
       "    </tr>\n",
       "  </thead>\n",
       "  <tbody>\n",
       "    <tr>\n",
       "      <th>2</th>\n",
       "      <td>2</td>\n",
       "      <td>Servicios públicos</td>\n",
       "      <td>Eléctricas</td>\n",
       "      <td>ENGIEC1</td>\n",
       "      <td>ENGIE ENERGIA DEL PERU SA</td>\n",
       "      <td>https://es.tradingview.com/symbols/BVL-ENGIEC1/</td>\n",
       "    </tr>\n",
       "    <tr>\n",
       "      <th>3</th>\n",
       "      <td>3</td>\n",
       "      <td>Servicios públicos</td>\n",
       "      <td>Eléctricas</td>\n",
       "      <td>HIDRA2C1</td>\n",
       "      <td>EMPRESA REGIONAL ELECTRONORTE MEDIO</td>\n",
       "      <td>https://es.tradingview.com/symbols/BVL-HIDRA2C1/</td>\n",
       "    </tr>\n",
       "    <tr>\n",
       "      <th>4</th>\n",
       "      <td>4</td>\n",
       "      <td>Servicios públicos</td>\n",
       "      <td>Eléctricas</td>\n",
       "      <td>LUSURC1</td>\n",
       "      <td>LUZ DEL SUR SA</td>\n",
       "      <td>https://es.tradingview.com/symbols/BVL-LUSURC1/</td>\n",
       "    </tr>\n",
       "    <tr>\n",
       "      <th>5</th>\n",
       "      <td>5</td>\n",
       "      <td>Servicios públicos</td>\n",
       "      <td>Eléctricas</td>\n",
       "      <td>PERENBC1</td>\n",
       "      <td>PERUANA DE ENERGIA SA</td>\n",
       "      <td>https://es.tradingview.com/symbols/BVL-PERENBC1/</td>\n",
       "    </tr>\n",
       "    <tr>\n",
       "      <th>6</th>\n",
       "      <td>6</td>\n",
       "      <td>Servicios públicos</td>\n",
       "      <td>Eléctricas</td>\n",
       "      <td>SEALDC1</td>\n",
       "      <td>SOCIEDAD ELECTRICA DEL SUR OESTE SA</td>\n",
       "      <td>https://es.tradingview.com/symbols/BVL-SEALDC1/</td>\n",
       "    </tr>\n",
       "  </tbody>\n",
       "</table>\n",
       "</div>"
      ],
      "text/plain": [
       "   index              sector    industry    ticker  \\\n",
       "2      2  Servicios públicos  Eléctricas   ENGIEC1   \n",
       "3      3  Servicios públicos  Eléctricas  HIDRA2C1   \n",
       "4      4  Servicios públicos  Eléctricas   LUSURC1   \n",
       "5      5  Servicios públicos  Eléctricas  PERENBC1   \n",
       "6      6  Servicios públicos  Eléctricas   SEALDC1   \n",
       "\n",
       "                                  name  \\\n",
       "2            ENGIE ENERGIA DEL PERU SA   \n",
       "3  EMPRESA REGIONAL ELECTRONORTE MEDIO   \n",
       "4                       LUZ DEL SUR SA   \n",
       "5                PERUANA DE ENERGIA SA   \n",
       "6  SOCIEDAD ELECTRICA DEL SUR OESTE SA   \n",
       "\n",
       "                                               href  \n",
       "2   https://es.tradingview.com/symbols/BVL-ENGIEC1/  \n",
       "3  https://es.tradingview.com/symbols/BVL-HIDRA2C1/  \n",
       "4   https://es.tradingview.com/symbols/BVL-LUSURC1/  \n",
       "5  https://es.tradingview.com/symbols/BVL-PERENBC1/  \n",
       "6   https://es.tradingview.com/symbols/BVL-SEALDC1/  "
      ]
     },
     "execution_count": 2,
     "metadata": {},
     "output_type": "execute_result"
    }
   ],
   "source": [
    "df = pd.read_sql(\"select * from peru_companies\", db)\n",
    "df.tail()"
   ]
  }
 ],
 "metadata": {
  "kernelspec": {
   "display_name": "Python 3",
   "language": "python",
   "name": "python3"
  },
  "language_info": {
   "codemirror_mode": {
    "name": "ipython",
    "version": 3
   },
   "file_extension": ".py",
   "mimetype": "text/x-python",
   "name": "python",
   "nbconvert_exporter": "python",
   "pygments_lexer": "ipython3",
   "version": "3.11.5"
  },
  "orig_nbformat": 4
 },
 "nbformat": 4,
 "nbformat_minor": 2
}
